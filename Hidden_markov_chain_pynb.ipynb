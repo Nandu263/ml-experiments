{
  "nbformat": 4,
  "nbformat_minor": 0,
  "metadata": {
    "colab": {
      "provenance": [],
      "authorship_tag": "ABX9TyPHoFfcHL0GG/TMbLjafAXz",
      "include_colab_link": true
    },
    "kernelspec": {
      "name": "python3",
      "display_name": "Python 3"
    },
    "language_info": {
      "name": "python"
    }
  },
  "cells": [
    {
      "cell_type": "markdown",
      "metadata": {
        "id": "view-in-github",
        "colab_type": "text"
      },
      "source": [
        "<a href=\"https://colab.research.google.com/github/Nandu263/ml-experiments/blob/main/Hidden_markov_chain_pynb.ipynb\" target=\"_parent\"><img src=\"https://colab.research.google.com/assets/colab-badge.svg\" alt=\"Open In Colab\"/></a>"
      ]
    },
    {
      "cell_type": "code",
      "execution_count": null,
      "metadata": {
        "colab": {
          "base_uri": "https://localhost:8080/"
        },
        "id": "lICBQ8dvp-bC",
        "outputId": "c9767695-db9b-452d-9900-45aae4f2b60d"
      },
      "outputs": [
        {
          "output_type": "stream",
          "name": "stdout",
          "text": [
            "Requirement already satisfied: hmmlearn in /usr/local/lib/python3.12/dist-packages (0.3.3)\n",
            "Requirement already satisfied: numpy>=1.10 in /usr/local/lib/python3.12/dist-packages (from hmmlearn) (2.0.2)\n",
            "Requirement already satisfied: scikit-learn!=0.22.0,>=0.16 in /usr/local/lib/python3.12/dist-packages (from hmmlearn) (1.6.1)\n",
            "Requirement already satisfied: scipy>=0.19 in /usr/local/lib/python3.12/dist-packages (from hmmlearn) (1.16.2)\n",
            "Requirement already satisfied: joblib>=1.2.0 in /usr/local/lib/python3.12/dist-packages (from scikit-learn!=0.22.0,>=0.16->hmmlearn) (1.5.2)\n",
            "Requirement already satisfied: threadpoolctl>=3.1.0 in /usr/local/lib/python3.12/dist-packages (from scikit-learn!=0.22.0,>=0.16->hmmlearn) (3.6.0)\n"
          ]
        }
      ],
      "source": [
        "!pip install hmmlearn"
      ]
    },
    {
      "cell_type": "code",
      "source": [
        "from hmmlearn import hmm\n",
        "import numpy as np\n",
        "\n",
        "# Hidden states and observation symbols\n",
        "states = [\"Sunny\", \"Rainy\"]\n",
        "observations = [\"Walk\", \"Shop\", \"Clean\"]\n",
        "\n",
        "# Define HMM parameters\n",
        "start_prob = np.array ([0.7, 0.3])\n",
        "trans_mat = np.array([[0.8, 0.2],\n",
        "[0.3, 0.7]])\n",
        "emit_mat = np.array([[0.6, 0.3, 0.1], # Sunny\n",
        "[0.1, 0.4, 0.5]]) # Rainy\n",
        "# Build the model\n",
        "model = hmm.MultinomialHMM(n_components=2, n_iter=100)\n",
        "model.startprob_ = start_prob\n",
        "model.transmat_ = trans_mat\n",
        "model.emissionprob_ = emit_mat\n",
        "model.n_trials = 1 # one trial per observation\n",
        "\n",
        "# Observed sequence: Walk (0), Shop (1), Clean (2), Shop (1), Walk(0)\n",
        "# Convert to one-hot representation (n_samples x n_symbols)\n",
        "obs_seq= np.array([\n",
        "[1, 0, 0], # Walk\n",
        "[0, 1, 0], # Shop\n",
        "[0, 0, 1], # Clean\n",
        "[0, 1, 0], # Shop\n",
        "[1, 0, 0], # Walk\n",
        "])\n",
        "\n",
        "# Fit the model\n",
        "model.fit(obs_seq)\n",
        "\n",
        "# Decode (Viterbi)\n",
        "logprob, hidden_states = model.decode(obs_seq, algorithm=\"viterbi\")\n",
        "print(\"Observed sequence:\", [observations[np.argmax(o)] for o in obs_seq])\n",
        "print(\"Most likely hidden states:\", [states[i] for i in hidden_states])\n",
        "print(\"Log probability:\", logprob)"
      ],
      "metadata": {
        "colab": {
          "base_uri": "https://localhost:8080/"
        },
        "id": "q_l2tH_3toGa",
        "outputId": "94def40b-f863-4392-afd7-e2fdb635b08b"
      },
      "execution_count": null,
      "outputs": [
        {
          "output_type": "stream",
          "name": "stderr",
          "text": [
            "WARNING:hmmlearn.hmm:MultinomialHMM has undergone major changes. The previous version was implementing a CategoricalHMM (a special case of MultinomialHMM). This new implementation follows the standard definition for a Multinomial distribution (e.g. as in https://en.wikipedia.org/wiki/Multinomial_distribution). See these issues for details:\n",
            "https://github.com/hmmlearn/hmmlearn/issues/335\n",
            "https://github.com/hmmlearn/hmmlearn/issues/340\n",
            "WARNING:hmmlearn.base:Even though the 'startprob_' attribute is set, it will be overwritten during initialization because 'init_params' contains 's'\n",
            "WARNING:hmmlearn.base:Even though the 'transmat_' attribute is set, it will be overwritten during initialization because 'init_params' contains 't'\n"
          ]
        },
        {
          "output_type": "stream",
          "name": "stdout",
          "text": [
            "Observed sequence: ['Walk', 'Shop', 'Clean', 'Shop', 'Walk']\n",
            "Most likely hidden states: ['Sunny', 'Rainy', 'Rainy', 'Rainy', 'Sunny']\n",
            "Log probability: -3.8537988789452586\n"
          ]
        }
      ]
    }
  ]
}