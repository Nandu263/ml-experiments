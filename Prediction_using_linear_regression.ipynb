{
  "nbformat": 4,
  "nbformat_minor": 0,
  "metadata": {
    "colab": {
      "provenance": [],
      "authorship_tag": "ABX9TyMFiXCUUTEWQFKcqX6sWeDm",
      "include_colab_link": true
    },
    "kernelspec": {
      "name": "python3",
      "display_name": "Python 3"
    },
    "language_info": {
      "name": "python"
    }
  },
  "cells": [
    {
      "cell_type": "markdown",
      "metadata": {
        "id": "view-in-github",
        "colab_type": "text"
      },
      "source": [
        "<a href=\"https://colab.research.google.com/github/Nandu263/ml-experiments/blob/main/Prediction_using_linear_regression.ipynb\" target=\"_parent\"><img src=\"https://colab.research.google.com/assets/colab-badge.svg\" alt=\"Open In Colab\"/></a>"
      ]
    },
    {
      "cell_type": "code",
      "execution_count": null,
      "metadata": {
        "collapsed": true,
        "id": "ux5euWBAMlxv"
      },
      "outputs": [],
      "source": [
        "import numpy as np\n",
        "import pandas as pd\n",
        "from sklearn.metrics import mean_absolute_error,mean_squared_error\n",
        "import matplotlib.pyplot as plt\n",
        "from sklearn.model_selection import train_test_split\n",
        "from sklearn.linear_model import LinearRegression\n"
      ]
    },
    {
      "cell_type": "code",
      "source": [
        "dataset = pd. read_csv('/content/student_scores (2).csv')\n",
        "print(dataset.head())\n",
        "print(dataset.tail())"
      ],
      "metadata": {
        "colab": {
          "base_uri": "https://localhost:8080/"
        },
        "id": "--pP1pQUQ_Su",
        "outputId": "3a08c00d-1b33-418e-c889-9ee2e10ccd65"
      },
      "execution_count": null,
      "outputs": [
        {
          "output_type": "stream",
          "name": "stdout",
          "text": [
            "   Hours  Scores\n",
            "0    2.5      21\n",
            "1    5.1      47\n",
            "2    3.2      27\n",
            "3    8.5      75\n",
            "4    3.5      30\n",
            "    Hours  Scores\n",
            "20    2.7      30\n",
            "21    4.8      54\n",
            "22    3.8      35\n",
            "23    6.9      76\n",
            "24    7.8      86\n"
          ]
        }
      ]
    },
    {
      "cell_type": "code",
      "source": [
        "dataset.info()"
      ],
      "metadata": {
        "colab": {
          "base_uri": "https://localhost:8080/"
        },
        "id": "GUFWkio8Usli",
        "outputId": "54965792-d169-4464-816d-3f8b5c317db1"
      },
      "execution_count": null,
      "outputs": [
        {
          "output_type": "stream",
          "name": "stdout",
          "text": [
            "<class 'pandas.core.frame.DataFrame'>\n",
            "RangeIndex: 25 entries, 0 to 24\n",
            "Data columns (total 2 columns):\n",
            " #   Column  Non-Null Count  Dtype  \n",
            "---  ------  --------------  -----  \n",
            " 0   Hours   25 non-null     float64\n",
            " 1   Scores  25 non-null     int64  \n",
            "dtypes: float64(1), int64(1)\n",
            "memory usage: 532.0 bytes\n"
          ]
        }
      ]
    },
    {
      "cell_type": "code",
      "source": [
        "#assiging hours to X a scoores to Y\n",
        "X = dataset.iloc[:,:-1].values\n",
        "print(X)\n",
        "Y = dataset.iloc[:,-1].values\n",
        "print(Y)\n"
      ],
      "metadata": {
        "colab": {
          "base_uri": "https://localhost:8080/"
        },
        "id": "O4nWwF3_U_8k",
        "outputId": "86422ce5-de38-4b52-f7b6-ae1f452870bb"
      },
      "execution_count": null,
      "outputs": [
        {
          "output_type": "stream",
          "name": "stdout",
          "text": [
            "[[2.5]\n",
            " [5.1]\n",
            " [3.2]\n",
            " [8.5]\n",
            " [3.5]\n",
            " [1.5]\n",
            " [9.2]\n",
            " [5.5]\n",
            " [8.3]\n",
            " [2.7]\n",
            " [7.7]\n",
            " [5.9]\n",
            " [4.5]\n",
            " [3.3]\n",
            " [1.1]\n",
            " [8.9]\n",
            " [2.5]\n",
            " [1.9]\n",
            " [6.1]\n",
            " [7.4]\n",
            " [2.7]\n",
            " [4.8]\n",
            " [3.8]\n",
            " [6.9]\n",
            " [7.8]]\n",
            "[21 47 27 75 30 20 88 60 81 25 85 62 41 42 17 95 30 24 67 69 30 54 35 76\n",
            " 86]\n"
          ]
        }
      ]
    },
    {
      "cell_type": "code",
      "source": [
        "from sklearn.model_selection import train_test_split\n",
        "X_train,X_test,Y_train,Y_test = train_test_split(X,Y,test_size=1/3,random_state=0)\n",
        "from sklearn.linear_model import LinearRegression\n",
        "reg= LinearRegression()\n",
        "reg.fit(X_train,Y_train)\n",
        "Y_pred = reg.predict(X_test)\n",
        "print(Y_pred)\n",
        "print(Y_test)"
      ],
      "metadata": {
        "colab": {
          "base_uri": "https://localhost:8080/"
        },
        "id": "WZTN35MxWgTN",
        "outputId": "244b84aa-4704-49a8-ec82-766b0dd9e227"
      },
      "execution_count": null,
      "outputs": [
        {
          "output_type": "stream",
          "name": "stdout",
          "text": [
            "[17.04289179 33.51695377 74.21757747 26.73351648 59.68164043 39.33132858\n",
            " 20.91914167 78.09382734 69.37226512]\n",
            "[20 27 69 30 62 35 24 86 76]\n"
          ]
        }
      ]
    },
    {
      "cell_type": "code",
      "source": [
        "mse=mean_squared_error(Y_test,Y_pred)\n",
        "print('MSE=',mse)\n",
        "mae=mean_absolute_error(Y_test,Y_pred)\n",
        "print('MAE=',mae)\n",
        "rmse=np.sqrt(mse)\n",
        "print('RMSE=',rmse)"
      ],
      "metadata": {
        "colab": {
          "base_uri": "https://localhost:8080/"
        },
        "id": "gGWJp8MSX4-d",
        "outputId": "b3358561-757f-44d5-875b-03b0b7e5ed10"
      },
      "execution_count": null,
      "outputs": [
        {
          "output_type": "stream",
          "name": "stdout",
          "text": [
            "MSE= 25.463280738222593\n",
            "MAE= 4.691397441397446\n",
            "RMSE= 5.046115410711748\n"
          ]
        }
      ]
    },
    {
      "cell_type": "code",
      "source": [],
      "metadata": {
        "id": "Zs2Yck4XYOTC"
      },
      "execution_count": null,
      "outputs": []
    }
  ]
}