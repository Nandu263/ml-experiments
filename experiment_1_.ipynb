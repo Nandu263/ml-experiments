{
  "nbformat": 4,
  "nbformat_minor": 0,
  "metadata": {
    "colab": {
      "provenance": [],
      "authorship_tag": "ABX9TyMTdAhNNgKNWMIHsn7M4g2N",
      "include_colab_link": true
    },
    "kernelspec": {
      "name": "python3",
      "display_name": "Python 3"
    },
    "language_info": {
      "name": "python"
    }
  },
  "cells": [
    {
      "cell_type": "markdown",
      "metadata": {
        "id": "view-in-github",
        "colab_type": "text"
      },
      "source": [
        "<a href=\"https://colab.research.google.com/github/Nandu263/ml-experiments/blob/main/experiment_1_.ipynb\" target=\"_parent\"><img src=\"https://colab.research.google.com/assets/colab-badge.svg\" alt=\"Open In Colab\"/></a>"
      ]
    },
    {
      "cell_type": "code",
      "execution_count": null,
      "metadata": {
        "colab": {
          "base_uri": "https://localhost:8080/"
        },
        "id": "7_joZflEI-mQ",
        "outputId": "d31879fa-a5fc-4f64-b26f-feabc8b3108b"
      },
      "outputs": [
        {
          "output_type": "stream",
          "name": "stdout",
          "text": [
            "18\n"
          ]
        }
      ],
      "source": [
        "a=12\n",
        "b=6\n",
        "c=a+b\n",
        "print(c)"
      ]
    },
    {
      "cell_type": "markdown",
      "source": [
        "# New Section"
      ],
      "metadata": {
        "id": "l_4GqT08HxDF"
      }
    },
    {
      "cell_type": "code",
      "source": [
        "from google.colab import drive\n",
        "drive.mount('/content/drive')"
      ],
      "metadata": {
        "id": "58svbAXsLVxM"
      },
      "execution_count": null,
      "outputs": []
    },
    {
      "cell_type": "code",
      "source": [
        "x=int(input(\"enter the first number:\"))\n",
        "y=int(input(\"enter the second number:\"))\n",
        "op=input(\"enter the operator(*,/,+,-)\")\n",
        "if op==\"+\":\n",
        "  print(x+y)\n",
        "elif op==\"-\":\n",
        "  print(x-y)\n",
        "elif op==\"/\":\n",
        "  print(x/y)\n",
        "elif op==\"*\":\n",
        "  print(x*y)\n"
      ],
      "metadata": {
        "colab": {
          "base_uri": "https://localhost:8080/"
        },
        "id": "WK-ZWNv6Js-5",
        "outputId": "845a795a-75d8-479f-de4f-593fe1cd39ad"
      },
      "execution_count": null,
      "outputs": [
        {
          "output_type": "stream",
          "name": "stdout",
          "text": [
            "enter the first number:25\n",
            "enter the second number:5\n",
            "enter the operator(*,/,+,-)*\n",
            "125\n"
          ]
        }
      ]
    },
    {
      "cell_type": "code",
      "source": [
        "x=int(input(\"enter the first number:\"))\n",
        "y=int(input(\"enter the second number:\"))\n",
        "z=(x,y)\n",
        "print(z[ : :-1])"
      ],
      "metadata": {
        "colab": {
          "base_uri": "https://localhost:8080/"
        },
        "id": "S_ieS0lpMQjf",
        "outputId": "5b20f60f-a8ec-4585-b57f-14f3d9e5eace"
      },
      "execution_count": null,
      "outputs": [
        {
          "output_type": "stream",
          "name": "stdout",
          "text": [
            "enter the first number:6\n",
            "enter the second number:653\n",
            "(653, 6)\n"
          ]
        }
      ]
    },
    {
      "cell_type": "code",
      "source": [
        "x=int(input(\"enter the first number:\"))\n",
        "y=int(input(\"enter the second number:\"))\n",
        "z=(x+y)\n",
        "print(int(str(z)[ : :-1]))"
      ],
      "metadata": {
        "colab": {
          "base_uri": "https://localhost:8080/"
        },
        "id": "HFmcsaCWOCyI",
        "outputId": "1f104ade-91d9-46d2-f921-c5076fb29303"
      },
      "execution_count": null,
      "outputs": [
        {
          "output_type": "stream",
          "name": "stdout",
          "text": [
            "enter the first number5\n",
            "enter the second number7\n",
            "21\n"
          ]
        }
      ]
    },
    {
      "cell_type": "code",
      "source": [
        "def check_odd_even(number):\n",
        "    if number % 2 == 0:\n",
        "        return \"Even\"\n",
        "    else:\n",
        "        return \"Odd\"\n",
        "\n",
        "# Example usage\n",
        "num = int(input(\"Enter a number: \"))\n",
        "print(f\"{num} is {check_odd_even(num)}.\")"
      ],
      "metadata": {
        "id": "7DZdL4UpRb-R",
        "colab": {
          "base_uri": "https://localhost:8080/"
        },
        "outputId": "18bfa61b-3582-47e1-a88c-787d02276163"
      },
      "execution_count": 9,
      "outputs": [
        {
          "output_type": "stream",
          "name": "stdout",
          "text": [
            "Enter a number: 2\n",
            "2 is Even.\n"
          ]
        }
      ]
    },
    {
      "cell_type": "code",
      "source": [
        "def is_prime(n):\n",
        "    if n <= 1:\n",
        "        return False\n",
        "    for i in range(2, int(n**0.5) + 1):\n",
        "        if n % i == 0:\n",
        "            return False\n",
        "    return True\n",
        "\n",
        "# Example usage\n",
        "num = int(input(\"Enter a number: \"))\n",
        "if is_prime(num):\n",
        "    print(f\"{num} is a prime number.\")\n",
        "else:\n",
        "    print(f\"{num} is not a prime number.\")"
      ],
      "metadata": {
        "colab": {
          "base_uri": "https://localhost:8080/"
        },
        "id": "Phmu5Y9XchbQ",
        "outputId": "23a349ed-494d-4590-921a-0134bcf4af82"
      },
      "execution_count": 10,
      "outputs": [
        {
          "output_type": "stream",
          "name": "stdout",
          "text": [
            "Enter a number: 55\n",
            "55 is not a prime number.\n"
          ]
        }
      ]
    },
    {
      "cell_type": "code",
      "source": [
        "def is_palindrome(s):\n",
        "    s = s.lower().replace(\" \", \"\")  # Normalize: lowercase and remove spaces\n",
        "    return s == s[::-1]\n",
        "\n",
        "# Example usage\n",
        "text = input(\"Enter a string: \")\n",
        "if is_palindrome(text):\n",
        "    print(f'\"{text}\" is a palindrome.')\n",
        "else:\n",
        "    print(f'\"{text}\" is not a palindrome.')"
      ],
      "metadata": {
        "colab": {
          "base_uri": "https://localhost:8080/"
        },
        "id": "sGbwXrFRcku4",
        "outputId": "8eed0030-043d-4548-cd03-2b5e7a87f46f"
      },
      "execution_count": 11,
      "outputs": [
        {
          "output_type": "stream",
          "name": "stdout",
          "text": [
            "Enter a string: gghjkjg\n",
            "\"gghjkjg\" is not a palindrome.\n"
          ]
        }
      ]
    },
    {
      "cell_type": "code",
      "source": [
        "rows = 5\n",
        "for i in range(1, rows + 1):\n",
        "    print(\"*\" * i)"
      ],
      "metadata": {
        "colab": {
          "base_uri": "https://localhost:8080/"
        },
        "id": "3OdedP_jc2Ng",
        "outputId": "0118c8a8-2f72-4d25-8d38-e244fbf9a3ba"
      },
      "execution_count": 12,
      "outputs": [
        {
          "output_type": "stream",
          "name": "stdout",
          "text": [
            "*\n",
            "**\n",
            "***\n",
            "****\n",
            "*****\n"
          ]
        }
      ]
    }
  ]
}